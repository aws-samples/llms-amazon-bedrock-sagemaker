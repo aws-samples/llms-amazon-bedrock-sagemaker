{
 "cells": [
  {
   "cell_type": "markdown",
   "metadata": {},
   "source": [
    "# Agentic - Function Calling Using Bedrock and LangGraph\n"
   ]
  },
  {
   "cell_type": "markdown",
   "metadata": {},
   "source": [
    "Install Dependencies"
   ]
  },
  {
   "cell_type": "code",
   "execution_count": 1,
   "metadata": {},
   "outputs": [
    {
     "name": "stdout",
     "output_type": "stream",
     "text": [
      "Note: you may need to restart the kernel to use updated packages.\n"
     ]
    }
   ],
   "source": [
    "%pip install -qU boto3 langchain langchain-aws langchain-community"
   ]
  },
  {
   "cell_type": "code",
   "execution_count": 2,
   "metadata": {},
   "outputs": [],
   "source": [
    "from langgraph.graph import StateGraph, END\n",
    "from typing import TypedDict, Annotated\n",
    "import operator\n",
    "from langchain_core.messages import (\n",
    "    AnyMessage,\n",
    "    SystemMessage,\n",
    "    HumanMessage,\n",
    "    ToolMessage,\n",
    ")\n",
    "from langchain_core.tools import tool\n",
    "from langchain_aws import ChatBedrock"
   ]
  },
  {
   "cell_type": "markdown",
   "metadata": {},
   "source": [
    "## Define Tools\n",
    "Now we define our tools. Tools are the actions that the agents can perform."
   ]
  },
  {
   "cell_type": "code",
   "execution_count": 3,
   "metadata": {},
   "outputs": [],
   "source": [
    "from langchain_community.tools import DuckDuckGoSearchRun\n",
    "\n",
    "\n",
    "@tool\n",
    "def get_weather_condition(city: str):\n",
    "    \"\"\"Call to get the weather condition of a city.\n",
    "\n",
    "    Args:\n",
    "        city (str): The city name.\n",
    "\n",
    "    Returns:\n",
    "        str: The weather condition of the city.\n",
    "    \"\"\"\n",
    "    search = DuckDuckGoSearchRun()\n",
    "    query = f\"weather condition of {city}\"\n",
    "    return search.run(query, max_results=1)\n",
    "\n",
    "\n",
    "tools = [get_weather_condition]"
   ]
  },
  {
   "cell_type": "markdown",
   "metadata": {},
   "source": [
    "## Define Agent and AgentState\n",
    "Let's define our agent and agent state. The agent is the entity that performs actions, while the agent state tracks the agent's current condition. AgentState can utilize various persistent storage mechanisms; in this example, we use in-memory storage."
   ]
  },
  {
   "cell_type": "code",
   "execution_count": 4,
   "metadata": {},
   "outputs": [],
   "source": [
    "from langgraph.checkpoint.sqlite import SqliteSaver\n",
    "\n",
    "# Using in-memory Sqlite database for saving the state.\n",
    "memory = SqliteSaver.from_conn_string(\":memory:\")\n",
    "\n",
    "\n",
    "# AgentState is a simple dictionary with a list of messages.\n",
    "class AgentState(TypedDict):\n",
    "    messages: Annotated[list[AnyMessage], operator.add]"
   ]
  },
  {
   "cell_type": "code",
   "execution_count": 5,
   "metadata": {},
   "outputs": [],
   "source": [
    "class Agent:\n",
    "    def __init__(self, model, tools, checkpointer, system=\"\"):\n",
    "        self.system = system\n",
    "        graph = StateGraph(AgentState)\n",
    "        graph.add_node(\"llm\", self.invoke_model)\n",
    "        graph.add_node(\"action\", self.take_action)\n",
    "        graph.add_conditional_edges(\n",
    "            \"llm\", self.exists_action, {True: \"action\", False: END}\n",
    "        )\n",
    "        graph.add_edge(\"action\", \"llm\")\n",
    "        graph.set_entry_point(\"llm\")\n",
    "        self.graph = graph.compile(checkpointer=checkpointer)\n",
    "        self.tools = {t.name: t for t in tools}\n",
    "        self.model = model.bind_tools(tools)\n",
    "\n",
    "    def invoke_model(self, state: AgentState):\n",
    "        messages = state[\"messages\"]\n",
    "        if self.system:\n",
    "            messages = [SystemMessage(content=self.system)] + messages\n",
    "        message = self.model.invoke(messages)\n",
    "        return {\"messages\": [message]}\n",
    "\n",
    "    def exists_action(self, state: AgentState):\n",
    "        result = state[\"messages\"][-1]\n",
    "        return len(result.tool_calls) > 0\n",
    "\n",
    "    def take_action(self, state: AgentState):\n",
    "        tool_calls = state[\"messages\"][-1].tool_calls\n",
    "        results = []\n",
    "        for t in tool_calls:\n",
    "            print(f\"Calling tool: {t} ...\")\n",
    "            result = self.tools[t[\"name\"]].invoke(t[\"args\"])\n",
    "            results.append(\n",
    "                ToolMessage(\n",
    "                    tool_call_id=t[\"id\"], name=t[\"name\"], content=str(result)\n",
    "                )\n",
    "            )\n",
    "        print(\"Calling model with results...\")\n",
    "        return {\"messages\": results}\n",
    "\n",
    "    def run(self, query, thread):\n",
    "        messages = [HumanMessage(content=query)]\n",
    "\n",
    "        for output in self.graph.stream({\"messages\": messages}, thread):\n",
    "            for value in output.values():\n",
    "                content = value[\"messages\"][0].content\n",
    "                if not content:\n",
    "                    continue\n",
    "                print(content)\n",
    "                print(\"-\" * 80)"
   ]
  },
  {
   "cell_type": "code",
   "execution_count": 6,
   "metadata": {},
   "outputs": [],
   "source": [
    "prompt = \"\"\"Your task is to assist based on the weather condition of a city.\n",
    "Use the given tool to look up information. \"\"\"\n",
    "\n",
    "model = ChatBedrock(\n",
    "    model_id=\"anthropic.claude-3-sonnet-20240229-v1:0\",\n",
    "    model_kwargs=dict(temperature=0),\n",
    ")\n",
    "agent = Agent(model, tools, system=prompt, checkpointer=memory)"
   ]
  },
  {
   "cell_type": "markdown",
   "metadata": {},
   "source": [
    "Thread is a way to separate different conversations. Each Thread has its own context and state."
   ]
  },
  {
   "cell_type": "code",
   "execution_count": 7,
   "metadata": {},
   "outputs": [],
   "source": [
    "thread = {\"configurable\": {\"thread_id\": \"1\"}}"
   ]
  },
  {
   "cell_type": "code",
   "execution_count": 8,
   "metadata": {},
   "outputs": [
    {
     "name": "stdout",
     "output_type": "stream",
     "text": [
      "Calling tool: {'name': 'get_weather_condition', 'args': {'city': 'New York'}, 'id': 'toolu_bdrk_01G3ULpB3y5zH31fwxAXDseU', 'type': 'tool_call'} ...\n",
      "Calling model with results...\n",
      "Hazardous Weather Conditions. Hazardous Weather Outlook ; Flood Watch in effect from August 6, 02:00 PM EDT until August 7, 12:00 PM EDT; Current conditions at New York City, Central Park (KNYC) Lat: 40.78°NLon: 73.97°WElev: 154ft. Overcast. 79°F. 26°C. Humidity: 82%: Wind Speed: Calm: Barometer: 29.97 in (1013.9 mb) The latest forecast. Thunderstorms are expected to bring heavy rain and flood risks to New York City and the surrounding area Tuesday. CBS New York's First Alert Weather team has issued a Red ... Hazardous Weather Conditions. Hazardous Weather Outlook ; Flood Watch in effect from August 6, 02:00 PM EDT until August 7, 12:00 PM EDT; Current conditions at New York City, Central Park (KNYC) Lat: 40.78° N Lon: 73.97° W ... Hazardous Weather Conditions. Hazardous Weather Outlook ; Current conditions at New York City, Central Park (KNYC) Lat: 40.78°NLon: 73.97°WElev: 154ft. Fair. 82°F. 28°C. Humidity: 56%: Wind Speed: ... New York NY . Today. High: 89 °F. Sunny then Slight Chance T-storms. Tonight. Low: 76 °F. Partly Cloudy then Slight Chance T-storms ... ALERT: A Severe Thunderstorm Warning has been issued for New York (Manhattan), Nassau, Westchester, Fairfield, Bergen, Hudson, Suffolk, Rockland, New Haven, Putnam, Bronx, Kings, Queens, Richmond ...\n",
      "--------------------------------------------------------------------------------\n",
      "Based on the weather information for New York, it looks like there is a risk of thunderstorms and heavy rain today. The forecast mentions hazardous weather conditions, a flood watch, and the possibility of severe thunderstorms. Given these rainy and potentially stormy conditions, it would be a good idea to take an umbrella with you if going out in New York today. An umbrella will help keep you dry in case of rain showers or thunderstorms. It's better to be prepared with rain protection on a day with an elevated risk of precipitation.\n",
      "--------------------------------------------------------------------------------\n"
     ]
    }
   ],
   "source": [
    "agent.run(\"Should I take umbrella today going to New York?\", thread)"
   ]
  },
  {
   "cell_type": "markdown",
   "metadata": {},
   "source": [
    "We can test the agent's memory to make sure we are keeping track of the state."
   ]
  },
  {
   "cell_type": "code",
   "execution_count": 9,
   "metadata": {},
   "outputs": [
    {
     "name": "stdout",
     "output_type": "stream",
     "text": [
      "Your first question was \"Should I take umbrella today going to New York?\"\n",
      "--------------------------------------------------------------------------------\n"
     ]
    }
   ],
   "source": [
    "agent.run(\"what was my first question?\", thread)"
   ]
  },
  {
   "cell_type": "markdown",
   "metadata": {},
   "source": [
    "Now let's ask a question which our agent is not aware of, and has no defined tool to find it out."
   ]
  },
  {
   "cell_type": "code",
   "execution_count": 10,
   "metadata": {},
   "outputs": [
    {
     "name": "stdout",
     "output_type": "stream",
     "text": [
      "Unfortunately, I don't have a tool available to look up current stock prices. My capabilities are limited to the tools provided in this conversation, which is for checking weather conditions in a given city. I don't have a way to retrieve Amazon's stock price or other financial data without an appropriate tool or access to that information.\n",
      "--------------------------------------------------------------------------------\n"
     ]
    }
   ],
   "source": [
    "agent.run(\"what is the Amazon stock price?\", thread)"
   ]
  },
  {
   "cell_type": "markdown",
   "metadata": {},
   "source": [
    "## Multi-Tool Agent\n",
    "\n",
    "Although it's a good practice to design agents in a loosely coupled and highly cohesive manner, sometimes it's necessary to have agents with multiple tools. We would like the model to be able to identify the relevant tool(s) based on the context and given query.\n",
    "\n",
    "Let's add a few more tools to our agent. We'll add tools to perform some stock market related actions."
   ]
  },
  {
   "cell_type": "code",
   "execution_count": 11,
   "metadata": {},
   "outputs": [],
   "source": [
    "@tool\n",
    "def get_current_stock_price(ticker: str) -> float:\n",
    "    \"\"\"\n",
    "    Gets the current stock price for a given ticker.\n",
    "\n",
    "    Parameters:\n",
    "    ticker (str): The stock ticker symbol.\n",
    "\n",
    "    Returns:\n",
    "    float: The current stock price.\n",
    "    \"\"\"\n",
    "    return 184.07\n",
    "\n",
    "\n",
    "@tool\n",
    "def get_stock_price_history(\n",
    "    ticker: str, start_date: str, end_date: str\n",
    ") -> list:\n",
    "    \"\"\"\n",
    "    Gets the stock price history for a given ticker.\n",
    "\n",
    "    Parameters:\n",
    "    ticker (str): The stock ticker symbol.\n",
    "    start_date (str): The start date of the price history.\n",
    "    end_date (str): The end date of the price history.\n",
    "\n",
    "    Returns:\n",
    "    list: The stock price history. This is a list of floats.\n",
    "    \"\"\"\n",
    "    return [181.71, 186.98, 184.07]\n",
    "\n",
    "\n",
    "@tool\n",
    "def buy_stock(ticker: str, quantity: int, price: float):\n",
    "    \"\"\"\n",
    "    Buys a quantity of a stock at a given price.\n",
    "\n",
    "    Parameters:\n",
    "    ticker (str): The stock ticker symbol.\n",
    "    quantity (int): The quantity of the stock to buy.\n",
    "    price (float): The price at which to buy the stock.\n",
    "\n",
    "    Returns:\n",
    "    None\n",
    "    \"\"\"\n",
    "    print(f\"Bought {quantity} shares of {ticker} at ${price} each.\")\n",
    "    pass"
   ]
  },
  {
   "cell_type": "markdown",
   "metadata": {},
   "source": [
    "We define a list of tools with stock related actions as well as our weather condition tool. "
   ]
  },
  {
   "cell_type": "code",
   "execution_count": 12,
   "metadata": {},
   "outputs": [],
   "source": [
    "tools = [\n",
    "    get_current_stock_price,\n",
    "    get_stock_price_history,\n",
    "    buy_stock,\n",
    "    get_weather_condition,\n",
    "]"
   ]
  },
  {
   "cell_type": "markdown",
   "metadata": {},
   "source": [
    "### Multiple Execution"
   ]
  },
  {
   "cell_type": "code",
   "execution_count": 13,
   "metadata": {},
   "outputs": [],
   "source": [
    "prompt = \"\"\"You are a financial assistant. Use the provided tools to get\n",
    "information about stock prices and make trades.\n",
    "You are allowed to make multiple calls (either together or in sequence).\n",
    "\"\"\"\n",
    "memory = SqliteSaver.from_conn_string(\":memory:\")\n",
    "\n",
    "agent = Agent(model, tools, system=prompt, checkpointer=memory)"
   ]
  },
  {
   "cell_type": "code",
   "execution_count": 14,
   "metadata": {},
   "outputs": [],
   "source": [
    "thread = {\"configurable\": {\"thread_id\": \"1\"}}"
   ]
  },
  {
   "cell_type": "code",
   "execution_count": 15,
   "metadata": {},
   "outputs": [
    {
     "name": "stdout",
     "output_type": "stream",
     "text": [
      "Calling tool: {'name': 'get_weather_condition', 'args': {'city': 'New York'}, 'id': 'toolu_bdrk_0162vpqtmVXaVDkuV7GoskNQ', 'type': 'tool_call'} ...\n",
      "Calling model with results...\n",
      "Hazardous Weather Conditions. Hazardous Weather Outlook ; Flood Watch in effect from August 6, 02:00 PM EDT until August 7, 12:00 PM EDT; Current conditions at New York City, Central Park (KNYC) Lat: 40.78°NLon: 73.97°WElev: 154ft. Overcast. 79°F. 26°C. Humidity: 82%: Wind Speed: Calm: Barometer: 29.97 in (1013.9 mb) Hazardous Weather Conditions. Hazardous Weather Outlook ; Flood Watch in effect from August 6, 02:00 PM EDT until August 7, 12:00 PM EDT; Current conditions at New York City, Central Park (KNYC) Lat: 40.78° N Lon: 73.97° W ... Hazardous Weather Conditions. Hazardous Weather Outlook ; Current conditions at New York City, Central Park (KNYC) Lat: 40.78°NLon: 73.97°WElev: 154ft. Fair. 82°F. 28°C. Humidity: 56%: Wind Speed: ... New York NY . Today. High: 89 °F. Sunny then Slight Chance T-storms. Tonight. Low: 76 °F. Partly Cloudy then Slight Chance T-storms ... ALERT: A Severe Thunderstorm Warning has been issued for New York (Manhattan), Nassau, Westchester, Fairfield, Bergen, Hudson, Suffolk, Rockland, New Haven, Putnam, Bronx, Kings, Queens, Richmond ... New York City Weather Forecasts. Weather Underground provides local & long-range weather forecasts, weatherreports, maps & tropical weather conditions for the New York City area.\n",
      "--------------------------------------------------------------------------------\n",
      "Calling tool: {'name': 'get_stock_price_history', 'args': {'ticker': 'AMZN', 'start_date': '2024-07-30', 'end_date': '2024-08-01'}, 'id': 'toolu_bdrk_011NnXrneNamCHhXMPJ4J4ow', 'type': 'tool_call'} ...\n",
      "Calling model with results...\n",
      "[181.71, 186.98, 184.07]\n",
      "--------------------------------------------------------------------------------\n",
      "The weather condition in New York is hazardous with a flood watch in effect and potential thunderstorms according to the weather report.\n",
      "\n",
      "The stock price history for Amazon (AMZN) between 2024-07-30 and 2024-08-01 is [181.71, 186.98, 184.07].\n",
      "--------------------------------------------------------------------------------\n"
     ]
    }
   ],
   "source": [
    "agent.run(\n",
    "    query=\"What is the weather condition in New York? And what is stock price of Amazon between 2024-07-30 and 2024-08-01?\",\n",
    "    thread=thread,\n",
    ")"
   ]
  },
  {
   "cell_type": "markdown",
   "metadata": {},
   "source": [
    "In the example above, we asked the agent to perform multiple actions in a single query which were irrelevant to each other. The agent was able to identify the relevant tools and execute the actions accordingly.\n",
    "\n",
    "Finally, the agent returned a result that combined the outputs of both actions."
   ]
  },
  {
   "cell_type": "markdown",
   "metadata": {},
   "source": [
    "### Nested Execution\n",
    "In the following example, we ask the agent to perform a task that needs to be broken down into multiple dependent steps. The agent should then use the appropriate tool for each step and execute them in the correct order."
   ]
  },
  {
   "cell_type": "code",
   "execution_count": 16,
   "metadata": {},
   "outputs": [
    {
     "name": "stdout",
     "output_type": "stream",
     "text": [
      "Calling tool: {'name': 'get_current_stock_price', 'args': {'ticker': 'AMZN'}, 'id': 'toolu_bdrk_016cviDgAXRwL6pSB9NV1niq', 'type': 'tool_call'} ...\n",
      "Calling model with results...\n",
      "184.07\n",
      "--------------------------------------------------------------------------------\n",
      "Calling tool: {'name': 'buy_stock', 'args': {'ticker': 'AMZN', 'quantity': 20, 'price': 184.07}, 'id': 'toolu_bdrk_01HYoYEubVFRA4QvkR9qyqHb', 'type': 'tool_call'} ...\n",
      "Bought 20 shares of AMZN at $184.07 each.\n",
      "Calling model with results...\n",
      "None\n",
      "--------------------------------------------------------------------------------\n",
      "I have bought 20 shares of Amazon (AMZN) stock at the current price of $184.07 per share.\n",
      "--------------------------------------------------------------------------------\n"
     ]
    }
   ],
   "source": [
    "agent.run(\n",
    "    query=\"Buy 20 shares of Amazon stock at the current price.\", thread=thread\n",
    ")"
   ]
  },
  {
   "cell_type": "markdown",
   "metadata": {},
   "source": [
    "In the above query, we asked agent to buy 20 shares at the current price.\n",
    "1. Model realizes that it needs to first get the current price, so it calls `get_current_stock_price` tool.\n",
    "2. Once it has the price, it calls `buy_stock` tool to buy the shares with the price returned in step 1.\n",
    "3. Then finally it returns the combined output of all the steps."
   ]
  }
 ],
 "metadata": {
  "kernelspec": {
   "display_name": "base",
   "language": "python",
   "name": "python3"
  },
  "language_info": {
   "codemirror_mode": {
    "name": "ipython",
    "version": 3
   },
   "file_extension": ".py",
   "mimetype": "text/x-python",
   "name": "python",
   "nbconvert_exporter": "python",
   "pygments_lexer": "ipython3",
   "version": "3.11.5"
  }
 },
 "nbformat": 4,
 "nbformat_minor": 2
}
