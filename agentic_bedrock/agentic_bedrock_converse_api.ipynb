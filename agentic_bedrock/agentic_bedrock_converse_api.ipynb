{
 "cells": [
  {
   "cell_type": "markdown",
   "metadata": {},
   "source": [
    "# Agentic - Function Calling Using Bedrock Converse API\n"
   ]
  },
  {
   "cell_type": "markdown",
   "metadata": {},
   "source": [
    "Let's start with a simple function `convert_temperature` that converts temperature from Celsius to Fahrenheit, and vice versa."
   ]
  },
  {
   "cell_type": "code",
   "execution_count": 1,
   "metadata": {},
   "outputs": [],
   "source": [
    "def convert_temperatures(temperatures: list, to_celsius: bool):\n",
    "    \"\"\"\n",
    "    Converts a list of temperatures to either Celsius or Fahrenheit.\n",
    "\n",
    "    Parameters:\n",
    "    - temperatures: list of temperatures\n",
    "    - to_celsius:   if True, converts from Fahrenheit to Celsius;\n",
    "                    if False, converts from Celsius to Fahrenheit\n",
    "    Returns:\n",
    "    - List of converted temperatures\n",
    "    \"\"\"\n",
    "    converted_temperatures = []\n",
    "    for temp in temperatures:\n",
    "        if to_celsius:\n",
    "            converted_temp = (temp - 32) * 5 / 9\n",
    "        else:\n",
    "            converted_temp = (temp * 9 / 5) + 32\n",
    "        converted_temperatures.append(converted_temp)\n",
    "\n",
    "    return converted_temperatures"
   ]
  },
  {
   "cell_type": "markdown",
   "metadata": {},
   "source": [
    "Let's run a few examples."
   ]
  },
  {
   "cell_type": "code",
   "execution_count": 2,
   "metadata": {},
   "outputs": [
    {
     "name": "stdout",
     "output_type": "stream",
     "text": [
      "Converting temperatures to Celsius:\n",
      "[0.0, 20.0, 37.77777777777778]\n",
      "Converting temperatures to Fahrenheit:\n",
      "[32.0, 68.0, 98.6]\n"
     ]
    }
   ],
   "source": [
    "print(\"Converting temperatures to Celsius:\")\n",
    "temperatures = convert_temperatures([32, 68, 100], to_celsius=True)\n",
    "print(temperatures)\n",
    "\n",
    "print(\"Converting temperatures to Fahrenheit:\")\n",
    "temperatures = convert_temperatures([0, 20, 37], to_celsius=False)\n",
    "print(temperatures)"
   ]
  },
  {
   "cell_type": "markdown",
   "metadata": {},
   "source": [
    "## Use Converse API to call functions\n",
    "You can use the Amazon Bedrock API to provide a model with access to tools that assist in generating responses to the messages you send. This capability, known as *Function calling*.\n",
    "\n",
    "In the following, we will use the [Converse API](https://docs.aws.amazon.com/bedrock/latest/userguide/tool-use.html) to call the `convert_temperatures` function."
   ]
  },
  {
   "cell_type": "markdown",
   "metadata": {},
   "source": [
    "Install the dependencies\n"
   ]
  },
  {
   "cell_type": "code",
   "execution_count": null,
   "metadata": {},
   "outputs": [],
   "source": [
    "%pip install -qU boto3"
   ]
  },
  {
   "cell_type": "code",
   "execution_count": 5,
   "metadata": {},
   "outputs": [],
   "source": [
    "import json\n",
    "import boto3"
   ]
  },
  {
   "cell_type": "code",
   "execution_count": 6,
   "metadata": {},
   "outputs": [],
   "source": [
    "bedrock = boto3.client(\n",
    "    service_name=\"bedrock-runtime\",\n",
    "    region_name=\"us-east-1\",\n",
    ")"
   ]
  },
  {
   "cell_type": "markdown",
   "metadata": {},
   "source": [
    "We don't need to provide the details (body) of the function, we can just provide the name, arguments, description, and return type. The model will only need to generate the function call."
   ]
  },
  {
   "cell_type": "code",
   "execution_count": 7,
   "metadata": {},
   "outputs": [],
   "source": [
    "# Define the configuration for our tool...\n",
    "convert_temperatures_spec = {\n",
    "    \"toolSpec\": {\n",
    "        \"name\": \"convert_temperatures\",\n",
    "        \"description\": \"Convert temperatures between Celsius and Fahrenheit.\",\n",
    "        \"inputSchema\": {\n",
    "            \"json\": {\n",
    "                \"type\": \"object\",\n",
    "                \"properties\": {\n",
    "                    \"temperatures\": {\n",
    "                        \"type\": \"array\",\n",
    "                        \"items\": {\"type\": \"number\"},\n",
    "                        \"description\": \"List of temperatures to be converted.\",\n",
    "                    },\n",
    "                    \"to_celsius\": {\n",
    "                        \"type\": \"boolean\",\n",
    "                        \"description\": (\n",
    "                            \"Flag indicating conversion direction. \"\n",
    "                            \"True for Fahrenheit to Celsius, \"\n",
    "                            \"False for Celsius to Fahrenheit.\"\n",
    "                        ),\n",
    "                    },\n",
    "                },\n",
    "                \"required\": [\"temperatures\", \"to_celsius\"],\n",
    "            }\n",
    "        },\n",
    "    }\n",
    "}\n",
    "\n",
    "tool_config = {\"tools\": [convert_temperatures_spec]}"
   ]
  },
  {
   "cell_type": "markdown",
   "metadata": {},
   "source": [
    "Calling bedrock with Converse API"
   ]
  },
  {
   "cell_type": "code",
   "execution_count": 8,
   "metadata": {},
   "outputs": [],
   "source": [
    "def query_bedrock(query, system=[], tool_config=tool_config):\n",
    "    response = bedrock.converse(\n",
    "        modelId=\"anthropic.claude-3-sonnet-20240229-v1:0\",\n",
    "        system=system,\n",
    "        messages=[{\"role\": \"user\", \"content\": [{\"text\": query}]}],\n",
    "        toolConfig=tool_config,\n",
    "    )\n",
    "    return response"
   ]
  },
  {
   "cell_type": "code",
   "execution_count": 9,
   "metadata": {},
   "outputs": [],
   "source": [
    "USER_QUERY = \"Convert temperatures [32, 68, 100] from Fahrenheit to Celsius?\""
   ]
  },
  {
   "cell_type": "code",
   "execution_count": 10,
   "metadata": {},
   "outputs": [],
   "source": [
    "output = query_bedrock(query=USER_QUERY)\n",
    "# print(output)"
   ]
  },
  {
   "cell_type": "code",
   "execution_count": 11,
   "metadata": {},
   "outputs": [],
   "source": [
    "def extract_function_call(model_output):\n",
    "    function_calling = next(\n",
    "        (\n",
    "            c[\"toolUse\"]\n",
    "            for c in model_output[\"output\"][\"message\"][\"content\"]\n",
    "            if \"toolUse\" in c\n",
    "        ),\n",
    "        None,\n",
    "    )\n",
    "    name = function_calling[\"name\"]\n",
    "    tool_args = function_calling[\"input\"]\n",
    "\n",
    "    function_call = f\"{name}(**{tool_args})\"\n",
    "    return function_call"
   ]
  },
  {
   "cell_type": "code",
   "execution_count": 12,
   "metadata": {},
   "outputs": [
    {
     "name": "stdout",
     "output_type": "stream",
     "text": [
      "convert_temperatures(**{'temperatures': [32, 68, 100], 'to_celsius': True})\n"
     ]
    }
   ],
   "source": [
    "print(extract_function_call(output))"
   ]
  },
  {
   "cell_type": "markdown",
   "metadata": {},
   "source": [
    "Then you can simply run this using `exec()` function. like this:\n",
    "\n",
    "```python\n",
    "exec(funtion_call)\n",
    "```\n",
    "> NOTE: Avoid running LLM produced code on environments other than sandboxed environments."
   ]
  },
  {
   "cell_type": "code",
   "execution_count": 13,
   "metadata": {},
   "outputs": [
    {
     "data": {
      "text/plain": [
       "[0.0, 20.0, 37.77777777777778]"
      ]
     },
     "execution_count": 13,
     "metadata": {},
     "output_type": "execute_result"
    }
   ],
   "source": [
    "convert_temperatures(**{\"temperatures\": [32, 68, 100], \"to_celsius\": True})"
   ]
  },
  {
   "cell_type": "markdown",
   "metadata": {},
   "source": [
    "## Using Python builtin docstring\n",
    "\n",
    "We can simply use python's builtin docstring to provide the function signature and description.\n"
   ]
  },
  {
   "cell_type": "code",
   "execution_count": 14,
   "metadata": {},
   "outputs": [],
   "source": [
    "def my_function(arg1: int = 0, arg2: str = \"\") -> str:\n",
    "    \"\"\"this is a function to concat a string to an integer\n",
    "    arg1 (int): an integer argument\n",
    "    arg2 (str): a string argument\n",
    "\n",
    "    This function increases arg1 by 1 and then concatenates arg2 to it.\n",
    "    \"\"\"\n",
    "    return str(arg1 + 1) + arg2"
   ]
  },
  {
   "cell_type": "code",
   "execution_count": 15,
   "metadata": {},
   "outputs": [
    {
     "name": "stdout",
     "output_type": "stream",
     "text": [
      "my_function\n",
      "this is a function to concat a string to an integer\n",
      "    arg1 (int): an integer argument\n",
      "    arg2 (str): a string argument\n",
      "\n",
      "    This function increases arg1 by 1 and then concatenates arg2 to it.\n",
      "    \n"
     ]
    }
   ],
   "source": [
    "print(my_function.__name__)\n",
    "print(my_function.__doc__)"
   ]
  },
  {
   "cell_type": "code",
   "execution_count": 16,
   "metadata": {},
   "outputs": [
    {
     "name": "stdout",
     "output_type": "stream",
     "text": [
      "(arg1: int = 0, arg2: str = '') -> str\n"
     ]
    }
   ],
   "source": [
    "import inspect\n",
    "\n",
    "print(inspect.signature(my_function))"
   ]
  },
  {
   "cell_type": "markdown",
   "metadata": {},
   "source": [
    "### Setup the Tool Configuration\n"
   ]
  },
  {
   "cell_type": "code",
   "execution_count": 17,
   "metadata": {},
   "outputs": [],
   "source": [
    "import typing\n",
    "\n",
    "\n",
    "def function_signature_to_spec(func):\n",
    "    sig = inspect.signature(func)\n",
    "    func_name = func.__name__\n",
    "    func_doc = (\n",
    "        func.__doc__.strip() if func.__doc__ else \"No description provided.\"\n",
    "    )\n",
    "\n",
    "    input_schema = {\"type\": \"object\", \"properties\": {}, \"required\": []}\n",
    "\n",
    "    for param in sig.parameters.values():\n",
    "        param_name = param.name\n",
    "        param_type = (\n",
    "            param.annotation\n",
    "            if param.annotation != inspect.Parameter.empty\n",
    "            else str\n",
    "        )\n",
    "\n",
    "        # Determine the JSON type\n",
    "        if param_type == list or param_type == typing.List[float]:\n",
    "            json_type = {\n",
    "                \"type\": \"array\",\n",
    "                \"items\": {\"type\": \"number\"},\n",
    "                \"description\": f\"{param_name} values.\",\n",
    "            }\n",
    "        elif param_type == int:\n",
    "            json_type = {\n",
    "                \"type\": \"integer\",\n",
    "                \"description\": f\"{param_name} parameter.\",\n",
    "            }\n",
    "        elif param_type == float:\n",
    "            json_type = {\n",
    "                \"type\": \"number\",\n",
    "                \"description\": f\"{param_name} parameter.\",\n",
    "            }\n",
    "        elif param_type == str:\n",
    "            json_type = {\n",
    "                \"type\": \"string\",\n",
    "                \"description\": f\"{param_name} parameter.\",\n",
    "            }\n",
    "        elif param_type == bool:\n",
    "            json_type = {\n",
    "                \"type\": \"boolean\",\n",
    "                \"description\": f\"{param_name} parameter.\",\n",
    "            }\n",
    "        else:\n",
    "            json_type = {\n",
    "                \"type\": \"string\",\n",
    "                \"description\": f\"{param_name} parameter.\",\n",
    "            }\n",
    "\n",
    "        input_schema[\"properties\"][param_name] = json_type\n",
    "        input_schema[\"required\"].append(param_name)\n",
    "\n",
    "    tool_spec = {\n",
    "        \"toolSpec\": {\n",
    "            \"name\": func_name,\n",
    "            \"description\": func_doc,\n",
    "            \"inputSchema\": {\"json\": input_schema},\n",
    "        }\n",
    "    }\n",
    "\n",
    "    return tool_spec"
   ]
  },
  {
   "cell_type": "code",
   "execution_count": 18,
   "metadata": {},
   "outputs": [
    {
     "name": "stdout",
     "output_type": "stream",
     "text": [
      "{\n",
      "    \"tools\": [\n",
      "        {\n",
      "            \"toolSpec\": {\n",
      "                \"name\": \"my_function\",\n",
      "                \"description\": \"this is a function to concat a string to an integer\\n    arg1 (int): an integer argument\\n    arg2 (str): a string argument\\n\\n    This function increases arg1 by 1 and then concatenates arg2 to it.\",\n",
      "                \"inputSchema\": {\n",
      "                    \"json\": {\n",
      "                        \"type\": \"object\",\n",
      "                        \"properties\": {\n",
      "                            \"arg1\": {\n",
      "                                \"type\": \"integer\",\n",
      "                                \"description\": \"arg1 parameter.\"\n",
      "                            },\n",
      "                            \"arg2\": {\n",
      "                                \"type\": \"string\",\n",
      "                                \"description\": \"arg2 parameter.\"\n",
      "                            }\n",
      "                        },\n",
      "                        \"required\": [\n",
      "                            \"arg1\",\n",
      "                            \"arg2\"\n",
      "                        ]\n",
      "                    }\n",
      "                }\n",
      "            }\n",
      "        }\n",
      "    ]\n",
      "}\n"
     ]
    }
   ],
   "source": [
    "# Convert the function signature\n",
    "function_spec = function_signature_to_spec(my_function)\n",
    "tool_config = {\"tools\": [function_spec]}\n",
    "print(json.dumps(tool_config, indent=4))"
   ]
  },
  {
   "cell_type": "code",
   "execution_count": 19,
   "metadata": {},
   "outputs": [],
   "source": [
    "response = query_bedrock(\n",
    "    query=\"increase 1 and then concat it to `hello`\", tool_config=tool_config\n",
    ")\n",
    "# print(response)"
   ]
  },
  {
   "cell_type": "code",
   "execution_count": 20,
   "metadata": {},
   "outputs": [
    {
     "name": "stdout",
     "output_type": "stream",
     "text": [
      "my_function(**{'arg1': 1, 'arg2': 'hello'})\n"
     ]
    }
   ],
   "source": [
    "function_call = extract_function_call(response)\n",
    "print(function_call)"
   ]
  },
  {
   "cell_type": "code",
   "execution_count": 21,
   "metadata": {},
   "outputs": [
    {
     "data": {
      "text/plain": [
       "'2hello'"
      ]
     },
     "execution_count": 21,
     "metadata": {},
     "output_type": "execute_result"
    }
   ],
   "source": [
    "my_function(**{\"arg1\": 1, \"arg2\": \"hello\"})"
   ]
  },
  {
   "cell_type": "markdown",
   "metadata": {},
   "source": [
    "Now we can use this approach to call our `convert_temperature` function.\n"
   ]
  },
  {
   "cell_type": "code",
   "execution_count": 22,
   "metadata": {},
   "outputs": [
    {
     "name": "stdout",
     "output_type": "stream",
     "text": [
      "{\n",
      "    \"tools\": [\n",
      "        {\n",
      "            \"toolSpec\": {\n",
      "                \"name\": \"convert_temperatures\",\n",
      "                \"description\": \"Converts a list of temperatures to either Celsius or Fahrenheit.\\n\\n    Parameters:\\n    - temperatures: list of temperatures\\n    - to_celsius:   if True, converts from Fahrenheit to Celsius;\\n                    if False, converts from Celsius to Fahrenheit\\n    Returns:\\n    - List of converted temperatures\",\n",
      "                \"inputSchema\": {\n",
      "                    \"json\": {\n",
      "                        \"type\": \"object\",\n",
      "                        \"properties\": {\n",
      "                            \"temperatures\": {\n",
      "                                \"type\": \"array\",\n",
      "                                \"items\": {\n",
      "                                    \"type\": \"number\"\n",
      "                                },\n",
      "                                \"description\": \"temperatures values.\"\n",
      "                            },\n",
      "                            \"to_celsius\": {\n",
      "                                \"type\": \"boolean\",\n",
      "                                \"description\": \"to_celsius parameter.\"\n",
      "                            }\n",
      "                        },\n",
      "                        \"required\": [\n",
      "                            \"temperatures\",\n",
      "                            \"to_celsius\"\n",
      "                        ]\n",
      "                    }\n",
      "                }\n",
      "            }\n",
      "        }\n",
      "    ]\n",
      "}\n"
     ]
    }
   ],
   "source": [
    "function_spec = function_signature_to_spec(convert_temperatures)\n",
    "tool_config = {\"tools\": [function_spec]}\n",
    "print(json.dumps(tool_config, indent=4))"
   ]
  },
  {
   "cell_type": "code",
   "execution_count": 23,
   "metadata": {},
   "outputs": [
    {
     "name": "stdout",
     "output_type": "stream",
     "text": [
      "convert_temperatures(**{'temperatures': [90], 'to_celsius': 'True'})\n"
     ]
    }
   ],
   "source": [
    "response = query_bedrock(\n",
    "    query=\"What is 90F degree in C?\", tool_config=tool_config\n",
    ")\n",
    "function_call = extract_function_call(response)\n",
    "print(function_call)"
   ]
  },
  {
   "cell_type": "code",
   "execution_count": 24,
   "metadata": {},
   "outputs": [
    {
     "data": {
      "text/plain": [
       "[32.22222222222222]"
      ]
     },
     "execution_count": 24,
     "metadata": {},
     "output_type": "execute_result"
    }
   ],
   "source": [
    "convert_temperatures(**{\"temperatures\": [90], \"to_celsius\": True})"
   ]
  }
 ],
 "metadata": {
  "kernelspec": {
   "display_name": "base",
   "language": "python",
   "name": "python3"
  },
  "language_info": {
   "codemirror_mode": {
    "name": "ipython",
    "version": 3
   },
   "file_extension": ".py",
   "mimetype": "text/x-python",
   "name": "python",
   "nbconvert_exporter": "python",
   "pygments_lexer": "ipython3",
   "version": "3.11.5"
  }
 },
 "nbformat": 4,
 "nbformat_minor": 2
}
